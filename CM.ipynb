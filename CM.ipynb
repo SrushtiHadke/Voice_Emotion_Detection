{
 "cells": [
  {
   "cell_type": "code",
   "execution_count": 1,
   "id": "7dcd78c1-8a6b-48fb-8347-45ea930f6570",
   "metadata": {},
   "outputs": [
    {
     "name": "stderr",
     "output_type": "stream",
     "text": [
      "/home/srushti/.local/lib/python3.10/site-packages/matplotlib/projections/__init__.py:63: UserWarning: Unable to import Axes3D. This may be due to multiple versions of Matplotlib being installed (e.g. as a system package and as a pip package). As a result, the 3D projection is not available.\n",
      "  warnings.warn(\"Unable to import Axes3D. This may be due to multiple versions of \"\n",
      "2024-09-26 09:27:13.172425: I tensorflow/core/platform/cpu_feature_guard.cc:210] This TensorFlow binary is optimized to use available CPU instructions in performance-critical operations.\n",
      "To enable the following instructions: AVX2 FMA, in other operations, rebuild TensorFlow with the appropriate compiler flags.\n",
      "2024-09-26 09:27:14.239466: W tensorflow/compiler/tf2tensorrt/utils/py_utils.cc:38] TF-TRT Warning: Could not find TensorRT\n"
     ]
    }
   ],
   "source": [
    "import librosa\n",
    "from utils import *\n",
    "import librosa.display\n",
    "import numpy as np\n",
    "import matplotlib.pyplot as plt\n",
    "import tensorflow as tf\n",
    "from matplotlib.pyplot import specgram\n",
    "from sklearn.preprocessing import StandardScaler, OneHotEncoder\n",
    "from sklearn.metrics import confusion_matrix, classification_report\n",
    "from sklearn.model_selection import train_test_split\n",
    "import seaborn as sns\n",
    "import keras\n",
    "from keras.callbacks import ReduceLROnPlateau\n",
    "from keras.models import Sequential\n",
    "from keras.layers import Dense, Conv1D, MaxPooling1D, Flatten, Dropout, BatchNormalization\n",
    "from keras.utils import to_categorical\n",
    "from keras.callbacks import ModelCheckpoint\n",
    "from keras import regularizers\n",
    "from sklearn.model_selection import KFold\n",
    "\n",
    "import os\n",
    "import glob \n",
    "import pandas as pd\n",
    "import IPython.display as ipd\n",
    "import plotly.express as px\n",
    "import scipy.io.wavfile\n",
    "import sys\n",
    "import warnings\n",
    "if not sys.warnoptions:\n",
    "    warnings.simplefilter(\"ignore\")\n",
    "warnings.filterwarnings(\"ignore\", category=DeprecationWarning) "
   ]
  },
  {
   "cell_type": "code",
   "execution_count": 2,
   "id": "59ca3e46-ac2a-4d1b-9810-1314bd1f8831",
   "metadata": {},
   "outputs": [
    {
     "data": {
      "text/plain": [
       "labels\n",
       "female_neutral     144\n",
       "male_neutral       144\n",
       "female_sad          96\n",
       "female_fear         96\n",
       "female_happy        96\n",
       "female_angry        96\n",
       "female_surprise     96\n",
       "female_disgust      96\n",
       "male_disgust        96\n",
       "male_happy          96\n",
       "male_fear           96\n",
       "male_angry          96\n",
       "male_sad            96\n",
       "male_surprise       96\n",
       "Name: count, dtype: int64"
      ]
     },
     "execution_count": 2,
     "metadata": {},
     "output_type": "execute_result"
    }
   ],
   "source": [
    "RAV = 'Ravdess/'\n",
    "dir_list = os.listdir(RAV)\n",
    "\n",
    "emotion = []\n",
    "gender = []\n",
    "path = []\n",
    "feature = []\n",
    "for i in dir_list:\n",
    "    fname = os.listdir(RAV + i)\n",
    "    for f in fname:\n",
    "        part = f.split('.')[0].split('-')\n",
    "        emotion.append(int(part[2]))\n",
    "        temp = int(part[6])\n",
    "        if temp%2 == 0:\n",
    "            temp = \"female\"\n",
    "        else:\n",
    "            temp = \"male\"\n",
    "        gender.append(temp)\n",
    "        path.append(RAV + i + '/' + f)\n",
    "        \n",
    "RAV_df = pd.DataFrame(emotion)\n",
    "RAV_df = RAV_df.replace({1:'neutral', 2:'neutral', 3:'happy', 4:'sad', 5:'angry', 6:'fear', 7:'disgust', 8:'surprise'})\n",
    "RAV_df = pd.concat([pd.DataFrame(gender),RAV_df],axis=1)\n",
    "RAV_df.columns = ['gender','emotion']\n",
    "RAV_df['labels'] =RAV_df.gender + '_' + RAV_df.emotion\n",
    "RAV_df['source'] = 'RAVDESS'\n",
    "RAV_df = pd.concat([RAV_df,pd.DataFrame(path, columns = ['path'])],axis=1)\n",
    "RAV_df = RAV_df.drop(['gender'], axis=1)\n",
    "RAV_df.labels.value_counts()"
   ]
  },
  {
   "cell_type": "markdown",
   "id": "0cb1a23d-5076-49af-92d4-71018834dcc3",
   "metadata": {},
   "source": [
    "X, Y = [], []\n",
    "for path, emotion in zip(RAV_df.path, RAV_df.emotion):\n",
    "    feature = get_features(path)\n",
    "    for ele in feature:\n",
    "        X.append(ele)\n",
    "        # appending emotion 3 times as we have made 3 augmentation techniques on each audio file.\n",
    "        Y.append(emotion)"
   ]
  },
  {
   "cell_type": "markdown",
   "id": "e3a37b7a-46c8-4d2a-998a-83aae12108ee",
   "metadata": {},
   "source": [
    "Features = pd.DataFrame(X)\n",
    "Features['labels'] = Y\n",
    "Features.to_csv('features1.csv', index=False)"
   ]
  },
  {
   "cell_type": "code",
   "execution_count": 3,
   "id": "901d65bb-de37-43e1-8493-e75e49e0d245",
   "metadata": {},
   "outputs": [],
   "source": [
    "Features = pd.read_csv('features1.csv')"
   ]
  },
  {
   "cell_type": "code",
   "execution_count": 4,
   "id": "4f602913-ad42-43d8-8340-20c91cb30da8",
   "metadata": {},
   "outputs": [],
   "source": [
    "X = Features.iloc[: ,:-1].values\n",
    "Y = Features['labels'].values"
   ]
  },
  {
   "cell_type": "code",
   "execution_count": 5,
   "id": "bd7747fc-0722-43dd-9b2b-9ddbecd2d1c3",
   "metadata": {},
   "outputs": [
    {
     "data": {
      "text/plain": [
       "(4320, 162)"
      ]
     },
     "execution_count": 5,
     "metadata": {},
     "output_type": "execute_result"
    }
   ],
   "source": [
    "X.shape"
   ]
  },
  {
   "cell_type": "code",
   "execution_count": 6,
   "id": "8cc9f453-01d4-461b-b54b-0be29a6cb252",
   "metadata": {},
   "outputs": [
    {
     "data": {
      "text/plain": [
       "(4320,)"
      ]
     },
     "execution_count": 6,
     "metadata": {},
     "output_type": "execute_result"
    }
   ],
   "source": [
    "Y.shape"
   ]
  },
  {
   "cell_type": "code",
   "execution_count": 7,
   "id": "22ae4346-e5a6-4699-8f36-83c0ada25524",
   "metadata": {},
   "outputs": [],
   "source": [
    "encoder = OneHotEncoder()\n",
    "Y = encoder.fit_transform(np.array(Y).reshape(-1,1)).toarray()"
   ]
  },
  {
   "cell_type": "code",
   "execution_count": 8,
   "id": "e777e596-eacc-4130-928a-ce67754ea1e1",
   "metadata": {},
   "outputs": [
    {
     "data": {
      "text/plain": [
       "(4320, 7)"
      ]
     },
     "execution_count": 8,
     "metadata": {},
     "output_type": "execute_result"
    }
   ],
   "source": [
    "Y.shape"
   ]
  },
  {
   "cell_type": "code",
   "execution_count": 9,
   "id": "dad4cd8c-7a78-4725-9dc9-d0e1a6c75011",
   "metadata": {},
   "outputs": [
    {
     "data": {
      "text/plain": [
       "array([0., 0., 0., 0., 1., 0., 0.])"
      ]
     },
     "execution_count": 9,
     "metadata": {},
     "output_type": "execute_result"
    }
   ],
   "source": [
    "Y[2000]"
   ]
  },
  {
   "cell_type": "code",
   "execution_count": 10,
   "id": "2e765930-f51e-4e76-b403-4cd87bbf2b59",
   "metadata": {},
   "outputs": [
    {
     "data": {
      "text/plain": [
       "((3240, 162), (3240, 7), (1080, 162), (1080, 7))"
      ]
     },
     "execution_count": 10,
     "metadata": {},
     "output_type": "execute_result"
    }
   ],
   "source": [
    "x_train, x_test, y_train, y_test = train_test_split(X, Y, random_state=2, shuffle=True)\n",
    "x_train.shape, y_train.shape, x_test.shape, y_test.shape"
   ]
  },
  {
   "cell_type": "code",
   "execution_count": 11,
   "id": "7cdb4cc6-9d9f-493f-be22-d1fc969a0e5b",
   "metadata": {},
   "outputs": [
    {
     "data": {
      "text/plain": [
       "array([[0., 0., 0., ..., 1., 0., 0.],\n",
       "       [0., 0., 0., ..., 0., 0., 0.],\n",
       "       [0., 0., 0., ..., 0., 0., 1.],\n",
       "       ...,\n",
       "       [0., 0., 0., ..., 0., 0., 0.],\n",
       "       [0., 0., 1., ..., 0., 0., 0.],\n",
       "       [0., 0., 0., ..., 1., 0., 0.]])"
      ]
     },
     "execution_count": 11,
     "metadata": {},
     "output_type": "execute_result"
    }
   ],
   "source": [
    "y_test"
   ]
  },
  {
   "cell_type": "code",
   "execution_count": 12,
   "id": "04cab3eb-3a46-4b1e-a5c0-760f077bbfd3",
   "metadata": {},
   "outputs": [
    {
     "data": {
      "text/plain": [
       "((3240, 162), (3240, 7), (1080, 162), (1080, 7))"
      ]
     },
     "execution_count": 12,
     "metadata": {},
     "output_type": "execute_result"
    }
   ],
   "source": [
    "scaler = StandardScaler()\n",
    "x_train = scaler.fit_transform(x_train)\n",
    "x_test = scaler.transform(x_test)\n",
    "x_train.shape, y_train.shape, x_test.shape, y_test.shape"
   ]
  },
  {
   "cell_type": "code",
   "execution_count": 13,
   "id": "354ad493-79c6-43d4-9127-523b7c00ad07",
   "metadata": {},
   "outputs": [
    {
     "data": {
      "text/plain": [
       "((3240, 162, 1), (3240, 7), (1080, 162, 1), (1080, 7))"
      ]
     },
     "execution_count": 13,
     "metadata": {},
     "output_type": "execute_result"
    }
   ],
   "source": [
    "x_train = np.expand_dims(x_train, axis=2)\n",
    "x_test = np.expand_dims(x_test, axis=2)\n",
    "x_train.shape, y_train.shape, x_test.shape, y_test.shape"
   ]
  },
  {
   "cell_type": "code",
   "execution_count": 14,
   "id": "eef08207-87b2-438a-b746-4997795d2334",
   "metadata": {},
   "outputs": [],
   "source": [
    "def createModel():\n",
    "    model=Sequential()\n",
    "    model.add(Conv1D(256, kernel_size=5, strides=1, padding='same', activation='relu', input_shape=(x_train.shape[1], 1)))\n",
    "    model.add(MaxPooling1D(pool_size=5, strides = 2, padding = 'same'))\n",
    "    \n",
    "    model.add(Conv1D(128, kernel_size=5, strides=1, padding='same', activation='relu'))\n",
    "    model.add(MaxPooling1D(pool_size=5, strides = 2, padding = 'same'))\n",
    "    \n",
    "    model.add(Conv1D(64, kernel_size=5, strides=1, padding='same', activation='relu'))\n",
    "    model.add(MaxPooling1D(pool_size=5, strides = 2, padding = 'same'))\n",
    "    model.add(Dropout(0.2))\n",
    "    \n",
    "    model.add(Conv1D(32, kernel_size=5, strides=1, padding='same', activation='relu'))\n",
    "    model.add(MaxPooling1D(pool_size=5, strides = 2, padding = 'same'))\n",
    "    \n",
    "    model.add(Flatten())\n",
    "    model.add(Dense(units=16, activation='relu'))\n",
    "    model.add(Dropout(0.3))\n",
    "    \n",
    "    model.add(Dense(units=7, activation='softmax'))\n",
    "    model.compile(optimizer = 'adam' , loss = 'categorical_crossentropy' , metrics = ['accuracy'])\n",
    "\n",
    "    return model\n",
    "\n",
    "##model.summary()"
   ]
  },
  {
   "cell_type": "code",
   "execution_count": 15,
   "id": "e7a9822e-b721-4933-be86-b416a49a7147",
   "metadata": {},
   "outputs": [],
   "source": [
    "mymodel = createModel()"
   ]
  },
  {
   "cell_type": "code",
   "execution_count": 16,
   "id": "41a78b3c-65b6-4b04-807f-88bf2245335d",
   "metadata": {},
   "outputs": [
    {
     "name": "stdout",
     "output_type": "stream",
     "text": [
      "Epoch 1/50\n",
      "\u001b[1m51/51\u001b[0m \u001b[32m━━━━━━━━━━━━━━━━━━━━\u001b[0m\u001b[37m\u001b[0m \u001b[1m5s\u001b[0m 56ms/step - accuracy: 0.1993 - loss: 1.9164 - val_accuracy: 0.2769 - val_loss: 1.8522 - learning_rate: 0.0010\n",
      "Epoch 2/50\n",
      "\u001b[1m51/51\u001b[0m \u001b[32m━━━━━━━━━━━━━━━━━━━━\u001b[0m\u001b[37m\u001b[0m \u001b[1m3s\u001b[0m 50ms/step - accuracy: 0.2669 - loss: 1.8458 - val_accuracy: 0.3194 - val_loss: 1.7537 - learning_rate: 0.0010\n",
      "Epoch 3/50\n",
      "\u001b[1m51/51\u001b[0m \u001b[32m━━━━━━━━━━━━━━━━━━━━\u001b[0m\u001b[37m\u001b[0m \u001b[1m2s\u001b[0m 48ms/step - accuracy: 0.3151 - loss: 1.7621 - val_accuracy: 0.3315 - val_loss: 1.6976 - learning_rate: 0.0010\n",
      "Epoch 4/50\n",
      "\u001b[1m51/51\u001b[0m \u001b[32m━━━━━━━━━━━━━━━━━━━━\u001b[0m\u001b[37m\u001b[0m \u001b[1m3s\u001b[0m 50ms/step - accuracy: 0.2848 - loss: 1.7748 - val_accuracy: 0.3556 - val_loss: 1.6698 - learning_rate: 0.0010\n",
      "Epoch 5/50\n",
      "\u001b[1m51/51\u001b[0m \u001b[32m━━━━━━━━━━━━━━━━━━━━\u001b[0m\u001b[37m\u001b[0m \u001b[1m3s\u001b[0m 54ms/step - accuracy: 0.3247 - loss: 1.6930 - val_accuracy: 0.3741 - val_loss: 1.6409 - learning_rate: 0.0010\n",
      "Epoch 6/50\n",
      "\u001b[1m51/51\u001b[0m \u001b[32m━━━━━━━━━━━━━━━━━━━━\u001b[0m\u001b[37m\u001b[0m \u001b[1m3s\u001b[0m 50ms/step - accuracy: 0.3223 - loss: 1.6848 - val_accuracy: 0.3694 - val_loss: 1.6290 - learning_rate: 0.0010\n",
      "Epoch 7/50\n",
      "\u001b[1m51/51\u001b[0m \u001b[32m━━━━━━━━━━━━━━━━━━━━\u001b[0m\u001b[37m\u001b[0m \u001b[1m3s\u001b[0m 49ms/step - accuracy: 0.3411 - loss: 1.6641 - val_accuracy: 0.4028 - val_loss: 1.5559 - learning_rate: 0.0010\n",
      "Epoch 8/50\n",
      "\u001b[1m51/51\u001b[0m \u001b[32m━━━━━━━━━━━━━━━━━━━━\u001b[0m\u001b[37m\u001b[0m \u001b[1m3s\u001b[0m 49ms/step - accuracy: 0.3648 - loss: 1.6024 - val_accuracy: 0.4176 - val_loss: 1.5816 - learning_rate: 0.0010\n",
      "Epoch 9/50\n",
      "\u001b[1m51/51\u001b[0m \u001b[32m━━━━━━━━━━━━━━━━━━━━\u001b[0m\u001b[37m\u001b[0m \u001b[1m3s\u001b[0m 49ms/step - accuracy: 0.3818 - loss: 1.5866 - val_accuracy: 0.4259 - val_loss: 1.5262 - learning_rate: 0.0010\n",
      "Epoch 10/50\n",
      "\u001b[1m51/51\u001b[0m \u001b[32m━━━━━━━━━━━━━━━━━━━━\u001b[0m\u001b[37m\u001b[0m \u001b[1m3s\u001b[0m 49ms/step - accuracy: 0.3938 - loss: 1.5794 - val_accuracy: 0.4167 - val_loss: 1.5059 - learning_rate: 0.0010\n",
      "Epoch 11/50\n",
      "\u001b[1m51/51\u001b[0m \u001b[32m━━━━━━━━━━━━━━━━━━━━\u001b[0m\u001b[37m\u001b[0m \u001b[1m3s\u001b[0m 49ms/step - accuracy: 0.4038 - loss: 1.5438 - val_accuracy: 0.4398 - val_loss: 1.4548 - learning_rate: 0.0010\n",
      "Epoch 12/50\n",
      "\u001b[1m51/51\u001b[0m \u001b[32m━━━━━━━━━━━━━━━━━━━━\u001b[0m\u001b[37m\u001b[0m \u001b[1m2s\u001b[0m 48ms/step - accuracy: 0.4025 - loss: 1.4950 - val_accuracy: 0.4398 - val_loss: 1.4508 - learning_rate: 0.0010\n",
      "Epoch 13/50\n",
      "\u001b[1m51/51\u001b[0m \u001b[32m━━━━━━━━━━━━━━━━━━━━\u001b[0m\u001b[37m\u001b[0m \u001b[1m3s\u001b[0m 49ms/step - accuracy: 0.4348 - loss: 1.4793 - val_accuracy: 0.4602 - val_loss: 1.4204 - learning_rate: 0.0010\n",
      "Epoch 14/50\n",
      "\u001b[1m51/51\u001b[0m \u001b[32m━━━━━━━━━━━━━━━━━━━━\u001b[0m\u001b[37m\u001b[0m \u001b[1m2s\u001b[0m 48ms/step - accuracy: 0.4285 - loss: 1.4642 - val_accuracy: 0.4380 - val_loss: 1.4516 - learning_rate: 0.0010\n",
      "Epoch 15/50\n",
      "\u001b[1m51/51\u001b[0m \u001b[32m━━━━━━━━━━━━━━━━━━━━\u001b[0m\u001b[37m\u001b[0m \u001b[1m3s\u001b[0m 50ms/step - accuracy: 0.4313 - loss: 1.4387 - val_accuracy: 0.4602 - val_loss: 1.4175 - learning_rate: 0.0010\n",
      "Epoch 16/50\n",
      "\u001b[1m51/51\u001b[0m \u001b[32m━━━━━━━━━━━━━━━━━━━━\u001b[0m\u001b[37m\u001b[0m \u001b[1m3s\u001b[0m 51ms/step - accuracy: 0.4564 - loss: 1.4100 - val_accuracy: 0.4870 - val_loss: 1.3556 - learning_rate: 0.0010\n",
      "Epoch 17/50\n",
      "\u001b[1m51/51\u001b[0m \u001b[32m━━━━━━━━━━━━━━━━━━━━\u001b[0m\u001b[37m\u001b[0m \u001b[1m3s\u001b[0m 49ms/step - accuracy: 0.4691 - loss: 1.3690 - val_accuracy: 0.5194 - val_loss: 1.3043 - learning_rate: 0.0010\n",
      "Epoch 18/50\n",
      "\u001b[1m51/51\u001b[0m \u001b[32m━━━━━━━━━━━━━━━━━━━━\u001b[0m\u001b[37m\u001b[0m \u001b[1m3s\u001b[0m 50ms/step - accuracy: 0.4773 - loss: 1.3477 - val_accuracy: 0.4991 - val_loss: 1.3355 - learning_rate: 0.0010\n",
      "Epoch 19/50\n",
      "\u001b[1m51/51\u001b[0m \u001b[32m━━━━━━━━━━━━━━━━━━━━\u001b[0m\u001b[37m\u001b[0m \u001b[1m2s\u001b[0m 49ms/step - accuracy: 0.4846 - loss: 1.3356 - val_accuracy: 0.5167 - val_loss: 1.2804 - learning_rate: 0.0010\n",
      "Epoch 20/50\n",
      "\u001b[1m51/51\u001b[0m \u001b[32m━━━━━━━━━━━━━━━━━━━━\u001b[0m\u001b[37m\u001b[0m \u001b[1m3s\u001b[0m 49ms/step - accuracy: 0.4876 - loss: 1.3115 - val_accuracy: 0.5194 - val_loss: 1.2883 - learning_rate: 0.0010\n",
      "Epoch 21/50\n",
      "\u001b[1m51/51\u001b[0m \u001b[32m━━━━━━━━━━━━━━━━━━━━\u001b[0m\u001b[37m\u001b[0m \u001b[1m3s\u001b[0m 51ms/step - accuracy: 0.4777 - loss: 1.3126 - val_accuracy: 0.5417 - val_loss: 1.2606 - learning_rate: 0.0010\n",
      "Epoch 22/50\n",
      "\u001b[1m51/51\u001b[0m \u001b[32m━━━━━━━━━━━━━━━━━━━━\u001b[0m\u001b[37m\u001b[0m \u001b[1m2s\u001b[0m 48ms/step - accuracy: 0.5237 - loss: 1.2451 - val_accuracy: 0.5231 - val_loss: 1.2631 - learning_rate: 0.0010\n",
      "Epoch 23/50\n",
      "\u001b[1m51/51\u001b[0m \u001b[32m━━━━━━━━━━━━━━━━━━━━\u001b[0m\u001b[37m\u001b[0m \u001b[1m3s\u001b[0m 49ms/step - accuracy: 0.4982 - loss: 1.2547 - val_accuracy: 0.5407 - val_loss: 1.2412 - learning_rate: 0.0010\n",
      "Epoch 24/50\n",
      "\u001b[1m51/51\u001b[0m \u001b[32m━━━━━━━━━━━━━━━━━━━━\u001b[0m\u001b[37m\u001b[0m \u001b[1m3s\u001b[0m 49ms/step - accuracy: 0.5346 - loss: 1.2498 - val_accuracy: 0.5296 - val_loss: 1.2435 - learning_rate: 0.0010\n",
      "Epoch 25/50\n",
      "\u001b[1m51/51\u001b[0m \u001b[32m━━━━━━━━━━━━━━━━━━━━\u001b[0m\u001b[37m\u001b[0m \u001b[1m3s\u001b[0m 49ms/step - accuracy: 0.5408 - loss: 1.1889 - val_accuracy: 0.5519 - val_loss: 1.2433 - learning_rate: 0.0010\n",
      "Epoch 26/50\n",
      "\u001b[1m51/51\u001b[0m \u001b[32m━━━━━━━━━━━━━━━━━━━━\u001b[0m\u001b[37m\u001b[0m \u001b[1m3s\u001b[0m 50ms/step - accuracy: 0.5501 - loss: 1.1800 - val_accuracy: 0.5398 - val_loss: 1.2205 - learning_rate: 0.0010\n",
      "Epoch 27/50\n",
      "\u001b[1m51/51\u001b[0m \u001b[32m━━━━━━━━━━━━━━━━━━━━\u001b[0m\u001b[37m\u001b[0m \u001b[1m3s\u001b[0m 50ms/step - accuracy: 0.5626 - loss: 1.1726 - val_accuracy: 0.5370 - val_loss: 1.2269 - learning_rate: 0.0010\n",
      "Epoch 28/50\n",
      "\u001b[1m51/51\u001b[0m \u001b[32m━━━━━━━━━━━━━━━━━━━━\u001b[0m\u001b[37m\u001b[0m \u001b[1m2s\u001b[0m 48ms/step - accuracy: 0.5687 - loss: 1.1282 - val_accuracy: 0.5407 - val_loss: 1.2204 - learning_rate: 0.0010\n",
      "Epoch 29/50\n",
      "\u001b[1m51/51\u001b[0m \u001b[32m━━━━━━━━━━━━━━━━━━━━\u001b[0m\u001b[37m\u001b[0m \u001b[1m3s\u001b[0m 50ms/step - accuracy: 0.5725 - loss: 1.1134 - val_accuracy: 0.5694 - val_loss: 1.1409 - learning_rate: 0.0010\n",
      "Epoch 30/50\n",
      "\u001b[1m51/51\u001b[0m \u001b[32m━━━━━━━━━━━━━━━━━━━━\u001b[0m\u001b[37m\u001b[0m \u001b[1m3s\u001b[0m 50ms/step - accuracy: 0.5833 - loss: 1.0839 - val_accuracy: 0.5704 - val_loss: 1.1940 - learning_rate: 0.0010\n",
      "Epoch 31/50\n",
      "\u001b[1m51/51\u001b[0m \u001b[32m━━━━━━━━━━━━━━━━━━━━\u001b[0m\u001b[37m\u001b[0m \u001b[1m3s\u001b[0m 50ms/step - accuracy: 0.6145 - loss: 1.0023 - val_accuracy: 0.5546 - val_loss: 1.2121 - learning_rate: 0.0010\n",
      "Epoch 32/50\n",
      "\u001b[1m51/51\u001b[0m \u001b[32m━━━━━━━━━━━━━━━━━━━━\u001b[0m\u001b[37m\u001b[0m \u001b[1m3s\u001b[0m 51ms/step - accuracy: 0.6134 - loss: 1.0348 - val_accuracy: 0.5898 - val_loss: 1.1351 - learning_rate: 0.0010\n",
      "Epoch 33/50\n",
      "\u001b[1m51/51\u001b[0m \u001b[32m━━━━━━━━━━━━━━━━━━━━\u001b[0m\u001b[37m\u001b[0m \u001b[1m3s\u001b[0m 49ms/step - accuracy: 0.6161 - loss: 0.9849 - val_accuracy: 0.5750 - val_loss: 1.1377 - learning_rate: 0.0010\n",
      "Epoch 34/50\n",
      "\u001b[1m51/51\u001b[0m \u001b[32m━━━━━━━━━━━━━━━━━━━━\u001b[0m\u001b[37m\u001b[0m \u001b[1m3s\u001b[0m 49ms/step - accuracy: 0.5897 - loss: 1.0484 - val_accuracy: 0.5889 - val_loss: 1.1590 - learning_rate: 0.0010\n",
      "Epoch 35/50\n",
      "\u001b[1m51/51\u001b[0m \u001b[32m━━━━━━━━━━━━━━━━━━━━\u001b[0m\u001b[37m\u001b[0m \u001b[1m3s\u001b[0m 50ms/step - accuracy: 0.6127 - loss: 0.9989 - val_accuracy: 0.6019 - val_loss: 1.1038 - learning_rate: 0.0010\n",
      "Epoch 36/50\n",
      "\u001b[1m51/51\u001b[0m \u001b[32m━━━━━━━━━━━━━━━━━━━━\u001b[0m\u001b[37m\u001b[0m \u001b[1m3s\u001b[0m 50ms/step - accuracy: 0.6281 - loss: 0.9547 - val_accuracy: 0.5991 - val_loss: 1.1202 - learning_rate: 0.0010\n",
      "Epoch 37/50\n",
      "\u001b[1m51/51\u001b[0m \u001b[32m━━━━━━━━━━━━━━━━━━━━\u001b[0m\u001b[37m\u001b[0m \u001b[1m3s\u001b[0m 50ms/step - accuracy: 0.6243 - loss: 0.9205 - val_accuracy: 0.5722 - val_loss: 1.1421 - learning_rate: 0.0010\n",
      "Epoch 38/50\n",
      "\u001b[1m51/51\u001b[0m \u001b[32m━━━━━━━━━━━━━━━━━━━━\u001b[0m\u001b[37m\u001b[0m \u001b[1m3s\u001b[0m 50ms/step - accuracy: 0.6766 - loss: 0.8977 - val_accuracy: 0.5843 - val_loss: 1.1250 - learning_rate: 0.0010\n",
      "Epoch 39/50\n",
      "\u001b[1m51/51\u001b[0m \u001b[32m━━━━━━━━━━━━━━━━━━━━\u001b[0m\u001b[37m\u001b[0m \u001b[1m3s\u001b[0m 49ms/step - accuracy: 0.6807 - loss: 0.8673 - val_accuracy: 0.6056 - val_loss: 1.1155 - learning_rate: 0.0010\n",
      "Epoch 40/50\n",
      "\u001b[1m51/51\u001b[0m \u001b[32m━━━━━━━━━━━━━━━━━━━━\u001b[0m\u001b[37m\u001b[0m \u001b[1m3s\u001b[0m 50ms/step - accuracy: 0.6906 - loss: 0.8659 - val_accuracy: 0.6148 - val_loss: 1.0892 - learning_rate: 0.0010\n",
      "Epoch 41/50\n",
      "\u001b[1m51/51\u001b[0m \u001b[32m━━━━━━━━━━━━━━━━━━━━\u001b[0m\u001b[37m\u001b[0m \u001b[1m3s\u001b[0m 50ms/step - accuracy: 0.6758 - loss: 0.8318 - val_accuracy: 0.6000 - val_loss: 1.1705 - learning_rate: 0.0010\n",
      "Epoch 42/50\n",
      "\u001b[1m51/51\u001b[0m \u001b[32m━━━━━━━━━━━━━━━━━━━━\u001b[0m\u001b[37m\u001b[0m \u001b[1m3s\u001b[0m 50ms/step - accuracy: 0.6898 - loss: 0.8416 - val_accuracy: 0.6093 - val_loss: 1.1688 - learning_rate: 0.0010\n",
      "Epoch 43/50\n",
      "\u001b[1m51/51\u001b[0m \u001b[32m━━━━━━━━━━━━━━━━━━━━\u001b[0m\u001b[37m\u001b[0m \u001b[1m3s\u001b[0m 49ms/step - accuracy: 0.6812 - loss: 0.8362 - val_accuracy: 0.5935 - val_loss: 1.1504 - learning_rate: 0.0010\n",
      "Epoch 44/50\n",
      "\u001b[1m51/51\u001b[0m \u001b[32m━━━━━━━━━━━━━━━━━━━━\u001b[0m\u001b[37m\u001b[0m \u001b[1m3s\u001b[0m 50ms/step - accuracy: 0.6993 - loss: 0.7932 - val_accuracy: 0.6176 - val_loss: 1.1172 - learning_rate: 0.0010\n",
      "Epoch 45/50\n",
      "\u001b[1m51/51\u001b[0m \u001b[32m━━━━━━━━━━━━━━━━━━━━\u001b[0m\u001b[37m\u001b[0m \u001b[1m3s\u001b[0m 50ms/step - accuracy: 0.6990 - loss: 0.7610 - val_accuracy: 0.6231 - val_loss: 1.1515 - learning_rate: 0.0010\n",
      "Epoch 46/50\n",
      "\u001b[1m51/51\u001b[0m \u001b[32m━━━━━━━━━━━━━━━━━━━━\u001b[0m\u001b[37m\u001b[0m \u001b[1m3s\u001b[0m 50ms/step - accuracy: 0.7174 - loss: 0.7558 - val_accuracy: 0.6130 - val_loss: 1.1123 - learning_rate: 0.0010\n",
      "Epoch 47/50\n",
      "\u001b[1m51/51\u001b[0m \u001b[32m━━━━━━━━━━━━━━━━━━━━\u001b[0m\u001b[37m\u001b[0m \u001b[1m3s\u001b[0m 49ms/step - accuracy: 0.7136 - loss: 0.7366 - val_accuracy: 0.5963 - val_loss: 1.2040 - learning_rate: 0.0010\n",
      "Epoch 48/50\n",
      "\u001b[1m51/51\u001b[0m \u001b[32m━━━━━━━━━━━━━━━━━━━━\u001b[0m\u001b[37m\u001b[0m \u001b[1m3s\u001b[0m 49ms/step - accuracy: 0.7315 - loss: 0.7218 - val_accuracy: 0.6167 - val_loss: 1.1269 - learning_rate: 0.0010\n",
      "Epoch 49/50\n",
      "\u001b[1m51/51\u001b[0m \u001b[32m━━━━━━━━━━━━━━━━━━━━\u001b[0m\u001b[37m\u001b[0m \u001b[1m3s\u001b[0m 49ms/step - accuracy: 0.7293 - loss: 0.7394 - val_accuracy: 0.6250 - val_loss: 1.0823 - learning_rate: 0.0010\n",
      "Epoch 50/50\n",
      "\u001b[1m51/51\u001b[0m \u001b[32m━━━━━━━━━━━━━━━━━━━━\u001b[0m\u001b[37m\u001b[0m \u001b[1m3s\u001b[0m 50ms/step - accuracy: 0.7250 - loss: 0.6961 - val_accuracy: 0.6111 - val_loss: 1.1657 - learning_rate: 0.0010\n"
     ]
    }
   ],
   "source": [
    "rlrp = ReduceLROnPlateau(monitor='loss', factor=0.4, verbose=0, patience=4, min_lr=0.0000001)\n",
    "history=mymodel.fit(x_train, y_train, batch_size=64, epochs=50, validation_data=(x_test, y_test), callbacks=[rlrp])"
   ]
  },
  {
   "cell_type": "code",
   "execution_count": 17,
   "id": "0e1d08a6-2221-40a6-b410-1f93edb71b06",
   "metadata": {},
   "outputs": [
    {
     "name": "stdout",
     "output_type": "stream",
     "text": [
      "\u001b[1m34/34\u001b[0m \u001b[32m━━━━━━━━━━━━━━━━━━━━\u001b[0m\u001b[37m\u001b[0m \u001b[1m0s\u001b[0m 9ms/step - accuracy: 0.6234 - loss: 1.1133\n",
      "Accuracy of our model on test data :  61.11111044883728 %\n"
     ]
    },
    {
     "data": {
      "image/png": "[encoded data removed]",
      "text/plain": [
       "<Figure size 2000x600 with 2 Axes>"
      ]
     },
     "metadata": {},
     "output_type": "display_data"
    }
   ],
   "source": [
    "print(\"Accuracy of our model on test data : \" , mymodel.evaluate(x_test,y_test)[1]*100 , \"%\")\n",
    "\n",
    "plt.style.use('seaborn-v0_8-darkgrid')\n",
    "plt.rcParams.update({'font.size': 12})\n",
    "epochs = [i for i in range(50)]\n",
    "fig , ax = plt.subplots(1,2)\n",
    "train_acc = history.history['accuracy']\n",
    "train_loss = history.history['loss']\n",
    "test_acc = history.history['val_accuracy']\n",
    "test_loss = history.history['val_loss']\n",
    "\n",
    "fig.set_size_inches(20,6)\n",
    "ax[0].plot(epochs , train_loss , label = 'Training Loss',marker='o', linewidth=2)\n",
    "ax[0].plot(epochs , test_loss , label = 'Testing Loss',marker='.', linewidth=2)\n",
    "ax[0].set_title('Training & Testing Loss')\n",
    "ax[0].legend()\n",
    "ax[0].set_xlabel(\"Epochs\")\n",
    "\n",
    "ax[1].plot(epochs , train_acc , label = 'Training Accuracy',marker='o', linewidth=2)\n",
    "ax[1].plot(epochs , test_acc , label = 'Testing Accuracy',marker='.', linewidth=2)\n",
    "ax[1].set_title('Training & Testing Accuracy')\n",
    "ax[1].legend()\n",
    "ax[1].set_xlabel(\"Epochs\")\n",
    "\n",
    "plt.subplots_adjust(wspace=0.3)\n",
    "plt.show()"
   ]
  },
  {
   "cell_type": "code",
   "execution_count": 18,
   "id": "801f6b98-0d25-4129-a2c6-656ae8f26384",
   "metadata": {},
   "outputs": [
    {
     "data": {
      "text/plain": [
       "array([[0., 0., 0., ..., 1., 0., 0.],\n",
       "       [0., 0., 0., ..., 0., 0., 0.],\n",
       "       [0., 0., 0., ..., 0., 0., 1.],\n",
       "       ...,\n",
       "       [0., 0., 0., ..., 0., 0., 0.],\n",
       "       [0., 0., 1., ..., 0., 0., 0.],\n",
       "       [0., 0., 0., ..., 1., 0., 0.]])"
      ]
     },
     "execution_count": 18,
     "metadata": {},
     "output_type": "execute_result"
    }
   ],
   "source": [
    "y_test"
   ]
  },
  {
   "cell_type": "code",
   "execution_count": 19,
   "id": "c7295fad-9714-40b6-b719-b84eb4aad76a",
   "metadata": {},
   "outputs": [
    {
     "name": "stdout",
     "output_type": "stream",
     "text": [
      "\u001b[1m34/34\u001b[0m \u001b[32m━━━━━━━━━━━━━━━━━━━━\u001b[0m\u001b[37m\u001b[0m \u001b[1m0s\u001b[0m 10ms/step\n"
     ]
    }
   ],
   "source": [
    "pred_test = mymodel.predict(x_test)"
   ]
  },
  {
   "cell_type": "code",
   "execution_count": 20,
   "id": "0b475cbb-e161-4f89-bd3b-c20424981a1c",
   "metadata": {},
   "outputs": [
    {
     "data": {
      "text/plain": [
       "(1080, 162, 1)"
      ]
     },
     "execution_count": 20,
     "metadata": {},
     "output_type": "execute_result"
    }
   ],
   "source": [
    "x_test.shape"
   ]
  },
  {
   "cell_type": "code",
   "execution_count": 21,
   "id": "00e48b21-f575-4878-8ee6-45a0abf818cb",
   "metadata": {},
   "outputs": [],
   "source": [
    "pe = encoder.inverse_transform(pred_test)"
   ]
  },
  {
   "cell_type": "code",
   "execution_count": 22,
   "id": "17b3ad62-64a9-4c4e-a1b8-d407d9da8b23",
   "metadata": {},
   "outputs": [],
   "source": [
    "qe = encoder.inverse_transform(y_test)"
   ]
  },
  {
   "cell_type": "code",
   "execution_count": 23,
   "id": "b7ff383d-437d-44af-86d9-9ee4bde8e96b",
   "metadata": {},
   "outputs": [
    {
     "data": {
      "text/html": [
       "<div>\n",
       "<style scoped>\n",
       "    .dataframe tbody tr th:only-of-type {\n",
       "        vertical-align: middle;\n",
       "    }\n",
       "\n",
       "    .dataframe tbody tr th {\n",
       "        vertical-align: top;\n",
       "    }\n",
       "\n",
       "    .dataframe thead th {\n",
       "        text-align: right;\n",
       "    }\n",
       "</style>\n",
       "<table border=\"1\" class=\"dataframe\">\n",
       "  <thead>\n",
       "    <tr style=\"text-align: right;\">\n",
       "      <th></th>\n",
       "      <th>Predicted Labels</th>\n",
       "      <th>Actual Labels</th>\n",
       "    </tr>\n",
       "  </thead>\n",
       "  <tbody>\n",
       "    <tr>\n",
       "      <th>0</th>\n",
       "      <td>neutral</td>\n",
       "      <td>neutral</td>\n",
       "    </tr>\n",
       "    <tr>\n",
       "      <th>1</th>\n",
       "      <td>sad</td>\n",
       "      <td>happy</td>\n",
       "    </tr>\n",
       "    <tr>\n",
       "      <th>2</th>\n",
       "      <td>surprise</td>\n",
       "      <td>surprise</td>\n",
       "    </tr>\n",
       "    <tr>\n",
       "      <th>3</th>\n",
       "      <td>neutral</td>\n",
       "      <td>neutral</td>\n",
       "    </tr>\n",
       "    <tr>\n",
       "      <th>4</th>\n",
       "      <td>neutral</td>\n",
       "      <td>neutral</td>\n",
       "    </tr>\n",
       "    <tr>\n",
       "      <th>5</th>\n",
       "      <td>sad</td>\n",
       "      <td>fear</td>\n",
       "    </tr>\n",
       "    <tr>\n",
       "      <th>6</th>\n",
       "      <td>angry</td>\n",
       "      <td>angry</td>\n",
       "    </tr>\n",
       "    <tr>\n",
       "      <th>7</th>\n",
       "      <td>fear</td>\n",
       "      <td>fear</td>\n",
       "    </tr>\n",
       "    <tr>\n",
       "      <th>8</th>\n",
       "      <td>happy</td>\n",
       "      <td>happy</td>\n",
       "    </tr>\n",
       "    <tr>\n",
       "      <th>9</th>\n",
       "      <td>happy</td>\n",
       "      <td>fear</td>\n",
       "    </tr>\n",
       "  </tbody>\n",
       "</table>\n",
       "</div>"
      ],
      "text/plain": [
       "  Predicted Labels Actual Labels\n",
       "0          neutral       neutral\n",
       "1              sad         happy\n",
       "2         surprise      surprise\n",
       "3          neutral       neutral\n",
       "4          neutral       neutral\n",
       "5              sad          fear\n",
       "6            angry         angry\n",
       "7             fear          fear\n",
       "8            happy         happy\n",
       "9            happy          fear"
      ]
     },
     "metadata": {},
     "output_type": "display_data"
    }
   ],
   "source": [
    "df = pd.DataFrame(columns=['Predicted Labels', 'Actual Labels'])\n",
    "df['Predicted Labels'] = pe.flatten()\n",
    "df['Actual Labels'] = qe.flatten()\n",
    "\n",
    "display(df.head(10))"
   ]
  },
  {
   "cell_type": "code",
   "execution_count": 24,
   "id": "07713341-e41e-461a-910c-8d7dd2a4d00a",
   "metadata": {},
   "outputs": [],
   "source": [
    "mymodel.save('srushti.keras')"
   ]
  },
  {
   "cell_type": "code",
   "execution_count": null,
   "id": "f44afdde-a9af-4342-817f-25d3293e6057",
   "metadata": {},
   "outputs": [],
   "source": []
  }
 ],
 "metadata": {
  "kernelspec": {
   "display_name": "Python 3 (ipykernel)",
   "language": "python",
   "name": "python3"
  },
  "language_info": {
   "codemirror_mode": {
    "name": "ipython",
    "version": 3
   },
   "file_extension": ".py",
   "mimetype": "text/x-python",
   "name": "python",
   "nbconvert_exporter": "python",
   "pygments_lexer": "ipython3",
   "version": "3.10.12"
  }
 },
 "nbformat": 4,
 "nbformat_minor": 5
}
